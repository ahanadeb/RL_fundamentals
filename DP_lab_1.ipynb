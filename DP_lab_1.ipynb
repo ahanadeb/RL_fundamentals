{
  "cells": [
    {
      "cell_type": "code",
      "execution_count": 1,
      "metadata": {
        "id": "13bac4dc"
      },
      "outputs": [],
      "source": [
        "import numpy as np\n",
        "import matplotlib.pyplot as plt"
      ],
      "id": "13bac4dc"
    },
    {
      "cell_type": "markdown",
      "metadata": {
        "id": "c2041ec7"
      },
      "source": [
        "# Part 0: Basic definitions and utilities\n",
        "\n",
        "This part defines a simple \"grid world\" MDP with the following rules:\n",
        "* The state space is an M by N grid, giving a total of X = N*M states\n",
        "* There are A=4 actions corresponding to going up, right, down, left\n",
        "* Each action is successful with probability p; in case of failure, the agent moves in a random direction\n",
        "* The reward function only depends on the state and is given by the M by N array \"reward\"\n",
        "* There are some obstacles where the agent is not allowed to step; these are represented by 1s in the binary array \"obstacles\"\n",
        "* The discount factor is gamma\n",
        "\n",
        "The following code defines the transition matrix P and the reward vector r represented by an X times X times A matrix and an X-sized vector."
      ],
      "id": "c2041ec7"
    },
    {
      "cell_type": "code",
      "execution_count": 2,
      "metadata": {
        "id": "cb3b1d88"
      },
      "outputs": [],
      "source": [
        "### basic properties of the MDP: size, transition probabilities\n",
        "N = 10  # x-dimension\n",
        "M = 10  # y-dimension\n",
        "X = N*M # number of states\n",
        "A = 4   # number of actions\n",
        "p = .6  # success probability\n",
        "q = (1-p)/3\n",
        "\n",
        "### obstacles and rewards; agent cannot step on obstacles\n",
        "obstacles = np.zeros((M,N)) # easy MDP: no obstacles\n",
        "obstacles[1:5,4] = 1        # hard MDP 1: one wall \n",
        "obstacles[5,2:5] = 1        # hard MDP 2: two walls\n",
        "reward = np.zeros((M,N))\n",
        "reward[3,3] = 1\n",
        "reward[4,7] = .9\n",
        "reward[5,5] = -.5\n",
        "gamma = .99"
      ],
      "id": "cb3b1d88"
    },
    {
      "cell_type": "code",
      "execution_count": 3,
      "metadata": {
        "id": "7f6b876c"
      },
      "outputs": [],
      "source": [
        "# utilities\n",
        "    \n",
        "def scalarize(m,n,M,N): # turns a pair of (m,n) coordinates into a flat 1-dimensional representation x\n",
        "    x = N*m + n\n",
        "    return x\n",
        "\n",
        "def vectorize(x,M,N): # turns a flat 1-dimensional representation x into a pair of (m,n) coordinates\n",
        "    n = np.mod(x,N)\n",
        "    m = (x-n)//N\n",
        "    return (m,n)\n",
        "\n",
        "def move(m,n,delta_m,delta_n,M,N,obstacles): # from a given grid position (m,n), move in direction (delta_m,delta_n) if possible\n",
        "    mtr = np.maximum(np.minimum(m+delta_m,M-1),0)\n",
        "    ntr = np.maximum(np.minimum(n+delta_n,N-1),0)\n",
        "    if obstacles[mtr,ntr]==1:\n",
        "        return scalarize(m,n,M,N)\n",
        "    else:\n",
        "        return scalarize(mtr,ntr,M,N)\n",
        "    \n",
        "def vector_to_matrix(value_vector,M,N): # turns a function on the state space represented as a flat X-dimensional vector to an M by N matrix\n",
        "    X = N*M\n",
        "    value_matrix = np.zeros((M,N))\n",
        "    for x in range(0,X):\n",
        "        [m,n] = vectorize(x,M,N)\n",
        "        value_matrix[m,n] = value_vector[x]\n",
        "        if obstacles[m,n]==1:\n",
        "            value_matrix[m,n]=np.nan\n",
        "    return value_matrix\n",
        "\n",
        "def matrix_to_vector(value_matrix): # turns a function on the state space represented as an M by N matrix into a flat X-dimensional vector\n",
        "    [M,N] = [np.size(value_matrix,0),np.size(value_matrix,1)]\n",
        "    X = N*M\n",
        "    value_vector = np.zeros((X))\n",
        "    for x in range(0,X):\n",
        "        [m,n] = vectorize(x,M,N)\n",
        "        value_vector[x] = value_matrix[m,n]\n",
        "    return value_vector"
      ],
      "id": "7f6b876c"
    },
    {
      "cell_type": "code",
      "execution_count": 4,
      "metadata": {
        "id": "eebef4fa",
        "scrolled": true
      },
      "outputs": [],
      "source": [
        "# constructs a transition model P for gridworld environment with size (M,N) and obstacles specified in a binary array\n",
        "# P[x,y,a] gives the probability of moving from state x to state y when taking action a\n",
        "def grid_env(M,N,obstacles):\n",
        "    P = np.zeros((X,X,A))\n",
        "    for m in range(0,M):\n",
        "        for n in range(0,N):\n",
        "            x=scalarize(m,n,M,N)\n",
        "            if obstacles[m,n]==1:\n",
        "                P[x,x] = 1\n",
        "            else:\n",
        "                # go down: m++ if possible\n",
        "                y=move(m,n,1,0,M,N,obstacles)\n",
        "                P[x,y,0] = P[x,y,0] + p\n",
        "                P[x,y,1] = P[x,y,1] + q\n",
        "                P[x,y,2] = P[x,y,2] + q\n",
        "                P[x,y,3] = P[x,y,3] + q\n",
        "                # go right: n++ if possible\n",
        "                y=move(m,n,0,1,M,N,obstacles)\n",
        "                P[x,y,0] = P[x,y,0] + q\n",
        "                P[x,y,1] = P[x,y,1] + p\n",
        "                P[x,y,2] = P[x,y,2] + q\n",
        "                P[x,y,3] = P[x,y,3] + q\n",
        "                # go up: m-- if possible\n",
        "                y=move(m,n,-1,0,M,N,obstacles)\n",
        "                P[x,y,0] = P[x,y,0] + q\n",
        "                P[x,y,1] = P[x,y,1] + q\n",
        "                P[x,y,2] = P[x,y,2] + p\n",
        "                P[x,y,3] = P[x,y,3] + q\n",
        "                # go left: n-- if possible\n",
        "                y=move(m,n,0,-1,M,N,obstacles)\n",
        "                P[x,y,0] = P[x,y,0] + q\n",
        "                P[x,y,1] = P[x,y,1] + q\n",
        "                P[x,y,2] = P[x,y,2] + q\n",
        "                P[x,y,3] = P[x,y,3] + p\n",
        "    return P"
      ],
      "id": "eebef4fa"
    },
    {
      "cell_type": "code",
      "execution_count": 5,
      "metadata": {
        "id": "097d46b4"
      },
      "outputs": [],
      "source": [
        "P = grid_env(M,N,obstacles)\n",
        "r = matrix_to_vector(reward)"
      ],
      "id": "097d46b4"
    },
    {
      "cell_type": "markdown",
      "metadata": {
        "id": "c75ef1e2"
      },
      "source": [
        "# Part 1: Policy Evaluation\n",
        "\n",
        "Policies are given by X times A arrays with the [x,a] entry giving the probability of picking action a in state x. We define some simple policies as examples below.\n",
        "\n",
        "Your tasks\n",
        "--\n",
        "1. Implement a function that calculates the X times X transition matrix for policy pi under the MDP dynamics P.\n",
        "2. Implement a policy evaluation subroutine that takes (P,pi,r,gamma) as input and returns the value function of the policy. (It is recommended to use the transition matrix constructed in the previous step.)\n",
        "3. Evaluate the basic policies defined in the first half of this section.\n",
        "4. Define 3 more policies of your choosing and evaluate them. (Can you guess the optimal policy?)"
      ],
      "id": "c75ef1e2"
    },
    {
      "cell_type": "code",
      "execution_count": 6,
      "metadata": {
        "id": "44c21034"
      },
      "outputs": [],
      "source": [
        "### some dumb policies\n",
        "### policy maps (x,a) pair to probability of taking action a in (scalarized) state x\n",
        "#   dumb policy that goes up\n",
        "pi_up = np.zeros((M*N,4))\n",
        "for m in range(0,M):\n",
        "    for n in range(0,N):\n",
        "        x = scalarize(m,n,M,N)\n",
        "        pi_up[x,2] = 1\n",
        "        \n",
        "# dumb policy that goes toward the center\n",
        "pi_center = np.zeros((M*N,4))\n",
        "for m in range(0,M):\n",
        "    for n in range(0,N):\n",
        "        x = scalarize(m,n,M,N)\n",
        "        if (m==M//2 and n==N//2):\n",
        "            pi_center[x,:] =.25\n",
        "        else:\n",
        "            dir = np.array([m-M//2, n-N//2]) / (np.abs(m-M//2) + np.abs(n-N//2))\n",
        "            if dir[0]<0:\n",
        "                pi_center[x,0] = np.abs(dir[0])\n",
        "            if dir[0]>0:\n",
        "                pi_center[x,2] = np.abs(dir[0])\n",
        "            if dir[1]<0:\n",
        "                pi_center[x,1] = np.abs(dir[1])\n",
        "            if dir[1]>0:\n",
        "                pi_center[x,3] = np.abs(dir[1])\n",
        "                \n",
        "# slightly less dumb policy that goes straight toward a specified target (m0,n0)\n",
        "def pi_target(m0,n0,M,N):\n",
        "    pi_target = np.zeros((M*N,4))\n",
        "    for m in range(0,M):\n",
        "        for n in range(0,N):\n",
        "            x = scalarize(m,n,M,N)\n",
        "            if (m==m0 and n==n0):\n",
        "                pi_center[x,:] =.25\n",
        "            else:\n",
        "                dir = np.array([m-m0, n-n0]) / (np.abs(m-m0) + np.abs(n-n0))\n",
        "            if dir[0]<0:\n",
        "                pi_target[x,0] = np.abs(dir[0])\n",
        "            if dir[0]>0:\n",
        "                pi_target[x,2] = np.abs(dir[0])\n",
        "            if dir[1]<0:\n",
        "                pi_target[x,1] = np.abs(dir[1])\n",
        "            if dir[1]>0:\n",
        "                pi_target[x,3] = np.abs(dir[1])\n",
        "    return pi_target"
      ],
      "id": "44c21034"
    },
    {
      "cell_type": "code",
      "execution_count": 38,
      "metadata": {
        "colab": {
          "base_uri": "https://localhost:8080/"
        },
        "id": "xFIi-YQ_qZVO",
        "outputId": "1a86436a-45f4-4c5a-e4dc-60d5539643a9"
      },
      "outputs": [
        {
          "output_type": "execute_result",
          "data": {
            "text/plain": [
              "(100, 100, 4)"
            ]
          },
          "metadata": {},
          "execution_count": 38
        }
      ],
      "source": [
        "P.shape"
      ],
      "id": "xFIi-YQ_qZVO"
    },
    {
      "cell_type": "code",
      "execution_count": 39,
      "metadata": {
        "colab": {
          "base_uri": "https://localhost:8080/"
        },
        "id": "Kja9PJCWDqQc",
        "outputId": "5094f725-4a30-4db9-ec76-0f01fbcfafc5"
      },
      "outputs": [
        {
          "output_type": "execute_result",
          "data": {
            "text/plain": [
              "(100, 4)"
            ]
          },
          "metadata": {},
          "execution_count": 39
        }
      ],
      "source": [
        "pi_up.shape"
      ],
      "id": "Kja9PJCWDqQc"
    },
    {
      "cell_type": "code",
      "execution_count": 40,
      "metadata": {
        "colab": {
          "base_uri": "https://localhost:8080/"
        },
        "id": "RxqUBUsdqaxh",
        "outputId": "f2a15a5b-cf4f-4df1-877c-52f68649ae0c"
      },
      "outputs": [
        {
          "output_type": "execute_result",
          "data": {
            "text/plain": [
              "(100,)"
            ]
          },
          "metadata": {},
          "execution_count": 40
        }
      ],
      "source": [
        "r.shape"
      ],
      "id": "RxqUBUsdqaxh"
    },
    {
      "cell_type": "code",
      "execution_count": 41,
      "metadata": {
        "colab": {
          "base_uri": "https://localhost:8080/"
        },
        "id": "FKmy9fBEARLC",
        "outputId": "c0c3b42c-9fec-4a06-e0ce-c9e47b19c36d"
      },
      "outputs": [
        {
          "output_type": "execute_result",
          "data": {
            "text/plain": [
              "array([0.26666667, 0.26666667, 0.73333333, 0.73333333])"
            ]
          },
          "metadata": {},
          "execution_count": 41
        }
      ],
      "source": [
        "P[0,0]"
      ],
      "id": "FKmy9fBEARLC"
    },
    {
      "cell_type": "code",
      "execution_count": 7,
      "metadata": {
        "id": "58f6f881"
      },
      "outputs": [],
      "source": [
        "### transition matrix for policy pi\n",
        "    \n",
        "def trans(P,pi): # constructs X by X transition matrix for policy pi\n",
        "    X = np.size(P,0)\n",
        "    P_pi = np.zeros((X,X))\n",
        "    ### YOUR CODE COMES HERE\n",
        "    ### YOUR CODE ENDS HERE\n",
        "    for m in range(0,X):\n",
        "      for n in range(0,X):\n",
        "        P_pi[m][n]= np.dot(P[m][n], pi[m])\n",
        "\n",
        "\n",
        "    return P_pi"
      ],
      "id": "58f6f881"
    },
    {
      "cell_type": "code",
      "execution_count": 43,
      "metadata": {
        "colab": {
          "base_uri": "https://localhost:8080/"
        },
        "id": "MYhFS2dp0MtC",
        "outputId": "f423f413-d004-4f88-afd5-61fbcd81fee5"
      },
      "outputs": [
        {
          "output_type": "execute_result",
          "data": {
            "text/plain": [
              "(100, 100)"
            ]
          },
          "metadata": {},
          "execution_count": 43
        }
      ],
      "source": [
        "p_pi= trans(P,pi_up)\n",
        "p_pi.shape\n"
      ],
      "id": "MYhFS2dp0MtC"
    },
    {
      "cell_type": "code",
      "execution_count": 43,
      "metadata": {
        "id": "RYezU6mwnJF-"
      },
      "outputs": [],
      "source": [],
      "id": "RYezU6mwnJF-"
    },
    {
      "cell_type": "code",
      "execution_count": 8,
      "metadata": {
        "id": "6a583c4b"
      },
      "outputs": [],
      "source": [
        "### policy evaluation subroutine (power iteration)\n",
        "def evaluate(P,pi,r,gamma):\n",
        "    X = np.size(P,0)\n",
        "    value = np.zeros((X))\n",
        "    ### YOUR CODE COMES HERE\n",
        "    ### YOUR CODE ENDS HERE\n",
        "    P_pi=trans(P,pi)\n",
        "    for i in range(0,10000):\n",
        "      for m in range(0,X):\n",
        "        value[m]=r[m]+gamma*(np.dot(P_pi[m], value))\n",
        "    return value"
      ],
      "id": "6a583c4b"
    },
    {
      "cell_type": "code",
      "source": [
        "### policy evaluation subroutine (analytical solution)\n",
        "def evaluate2(P,pi,r,gamma):\n",
        "    X = np.size(P,0)\n",
        "    value = np.zeros((X))\n",
        "    ### YOUR CODE COMES HERE\n",
        "    P_pi = trans(P, pi)\n",
        "   # print(P_pi)\n",
        "    I = np.eye(X)\n",
        "    A = (I - gamma*P_pi)\n",
        "    A_inverse = np.linalg.inv(A)\n",
        "    value = A_inverse.dot(r)\n",
        "    ### YOUR CODE ENDS HERE\n",
        "    return value"
      ],
      "metadata": {
        "id": "C2YwFEYJVHrW"
      },
      "id": "C2YwFEYJVHrW",
      "execution_count": 9,
      "outputs": []
    },
    {
      "cell_type": "code",
      "execution_count": 10,
      "metadata": {
        "id": "efae06e9"
      },
      "outputs": [],
      "source": [
        "### evaluate some policies\n",
        "# evaluate pi_up\n",
        "value_up = evaluate(P,pi_up,r,gamma)\n",
        "value_up_matrix = vector_to_matrix(value_up,M,N)\n",
        "\n",
        "# evaluate pi_center\n",
        "value_center = evaluate(P,pi_center,r,gamma)\n",
        "value_center_matrix = vector_to_matrix(value_center,M,N)\n",
        "\n",
        "# evaluate pi_target with m0=5, n0=3\n",
        "value_target = evaluate(P,pi_target(4,2,M,N),r,gamma)\n",
        "value_target_matrix = vector_to_matrix(value_target,M,N)\n"
      ],
      "id": "efae06e9"
    },
    {
      "cell_type": "code",
      "execution_count": 11,
      "metadata": {
        "colab": {
          "base_uri": "https://localhost:8080/",
          "height": 382
        },
        "id": "a1f2c276",
        "outputId": "a8e4f93a-ccfb-40a2-f317-3644a555d5f6"
      },
      "outputs": [
        {
          "output_type": "execute_result",
          "data": {
            "text/plain": [
              "<function matplotlib.pyplot.show(*args, **kw)>"
            ]
          },
          "metadata": {},
          "execution_count": 11
        },
        {
          "output_type": "display_data",
          "data": {
            "text/plain": [
              "<Figure size 1440x1440 with 6 Axes>"
            ],
            "image/png": "[encoded data removed]"
          },
          "metadata": {
            "needs_background": "light"
          }
        }
      ],
      "source": [
        "fig, (ax1,ax2,ax3) = plt.subplots(1,3,figsize=(20,20))\n",
        "z1 = ax1.imshow(value_up_matrix)\n",
        "z2 = ax2.imshow(value_center_matrix)\n",
        "z3 = ax3.imshow(value_target_matrix)\n",
        "ax1.title.set_text(\"pi_up\")\n",
        "ax2.title.set_text(\"pi_center\")\n",
        "ax3.title.set_text(\"pi_target\")\n",
        "plt.colorbar(z1,ax=ax1,fraction=0.046, pad=0.04)\n",
        "plt.colorbar(z2,ax=ax2,fraction=0.046, pad=0.04)\n",
        "plt.colorbar(z3,ax=ax3,fraction=0.046, pad=0.04)\n",
        "plt.show"
      ],
      "id": "a1f2c276"
    },
    {
      "cell_type": "markdown",
      "metadata": {
        "id": "36eac654"
      },
      "source": [
        "# Part 2: Value Iteration and Policy Iteration\n",
        "\n",
        "Now it's time to calculate the optimal value function and the optimal policy.\n",
        "\n",
        "Your tasks\n",
        "--\n",
        "1. Implement the value iteration algorithm that takes as input (P,r,gamma), an initial estimate V of the value function, and the maximum number of iterations. The output should be the value function estimated after max_iter iterations.\n",
        "2. Implement the policy iteration algorithm that takes as input (P,r,gamma), an initial estimate V of the value function, and the maximum number of iterations. The output should be the value function estimated after max_iter iterations. (You can terminate the iterations once the policy stops changing.)\n",
        "3. Run the two algorithms for 10 iterations each and plot the value estimates side by side. Repeat for 100 and 1000 iterations. What do you observe?"
      ],
      "id": "36eac654"
    },
    {
      "cell_type": "code",
      "execution_count": 12,
      "metadata": {
        "id": "271921ec"
      },
      "outputs": [],
      "source": [
        "### value iteration\n",
        "# P: X by X by A transition matrix\n",
        "# r: X-sized reward vector\n",
        "# gamma: discount factor\n",
        "# V: initial value-function estimate\n",
        "# max_iter: number of iterations\n",
        "def value_iteration(P,r,gamma,V,max_iter):\n",
        "    ### YOUR CODE COMES HERE\n",
        "    ### YOUR CODE ENDS HERE\n",
        "    for i in range(0,max_iter):\n",
        "      V_new=np.zeros((M*N))\n",
        "      \n",
        "      for m in range(0,X):\n",
        "        v=np.zeros((4))\n",
        "        \n",
        "        for a in range(0,4):\n",
        "          v[a]=r[m]+ gamma*(np.dot(P[m,:,a], V))\n",
        "        \n",
        "        V_new[m]=np.max(v)\n",
        "      V=V_new\n",
        "  \n",
        "        \n",
        "\n",
        "    return V"
      ],
      "id": "271921ec"
    },
    {
      "cell_type": "code",
      "execution_count": 13,
      "metadata": {
        "id": "4d5069b5"
      },
      "outputs": [],
      "source": [
        "gamma = .99\n",
        "opt_value_VI = value_iteration(P,r,gamma,np.zeros(X),1000)\n",
        "opt_value_VI_matrix = vector_to_matrix(opt_value_VI,M,N)"
      ],
      "id": "4d5069b5"
    },
    {
      "cell_type": "code",
      "execution_count": 25,
      "metadata": {
        "id": "c50532e0"
      },
      "outputs": [],
      "source": [
        "### policy iteration\n",
        "# P: X by X by A transition matrix\n",
        "# r: X-sized reward vector\n",
        "# gamma: discount factor\n",
        "# V: initial value-function estimate\n",
        "# max_iter: number of iterations\n",
        "def policy_iteration(P,r,gamma,V,max_iter):\n",
        "    ### YOUR CODE COMES HERE\n",
        "    ### YOUR CODE ENDS HERE\n",
        "    policy = np.zeros((M*N,4))+.5\n",
        "    V_new=np.zeros((M*N))\n",
        "    for i in range(0,max_iter):\n",
        "      V=evaluate2(P,policy,r,gamma)\n",
        "      for m in range(0,M*N):\n",
        "        v=np.zeros((4))\n",
        "        for a in range(0,4):\n",
        "          v[a]=r[m]+gamma*(np.dot(P[m,:,a], V))\n",
        "        V_new[m]=np.max(v)\n",
        "      \n",
        "        policy[m]=np.zeros((4))\n",
        "        policy[m,np.argmax(v)]=1\n",
        "      V=V_new\n",
        "\n",
        "\n",
        "    return V"
      ],
      "id": "c50532e0"
    },
    {
      "cell_type": "code",
      "source": [
        "v=np.zeros((4))\n",
        "for a in range(0,4):\n",
        "  v[a]=a\n",
        "print(np.argmax(v))"
      ],
      "metadata": {
        "colab": {
          "base_uri": "https://localhost:8080/"
        },
        "id": "Scnw3jBl36YB",
        "outputId": "bd428ba6-3d46-4b4b-83ea-0c6c09259a89"
      },
      "id": "Scnw3jBl36YB",
      "execution_count": 24,
      "outputs": [
        {
          "output_type": "stream",
          "name": "stdout",
          "text": [
            "3\n"
          ]
        }
      ]
    },
    {
      "cell_type": "code",
      "execution_count": 26,
      "metadata": {
        "id": "a42e4396"
      },
      "outputs": [],
      "source": [
        "opt_value_PI = policy_iteration(P,r,gamma,np.zeros(X),max_iter=1000)\n",
        "opt_value_PI_matrix = vector_to_matrix(opt_value_PI,M,N)"
      ],
      "id": "a42e4396"
    },
    {
      "cell_type": "code",
      "source": [
        "opt_value_PI\n"
      ],
      "metadata": {
        "colab": {
          "base_uri": "https://localhost:8080/"
        },
        "id": "C-lusdDF1l1B",
        "outputId": "9672241e-77bd-4e3b-ac71-7ef39903a983"
      },
      "id": "C-lusdDF1l1B",
      "execution_count": 27,
      "outputs": [
        {
          "output_type": "execute_result",
          "data": {
            "text/plain": [
              "array([44.49328637, 45.10788189, 45.85175167, 46.35381671, 45.31117058,\n",
              "       44.05192746, 42.88768008, 41.80314878, 40.81120169, 40.02680125,\n",
              "       45.09831001, 45.79232722, 46.67740106, 47.47745314,  0.        ,\n",
              "       42.88684804, 41.98216486, 41.0816102 , 40.22359792, 39.5293327 ,\n",
              "       45.83776447, 46.65707317, 47.66558727, 48.70422319,  0.        ,\n",
              "       41.79767744, 41.08368488, 40.2778311 , 39.51644638, 38.90231707,\n",
              "       46.36288769, 47.33744114, 48.59945523, 50.02758316,  0.        ,\n",
              "       40.77689304, 40.24478658, 39.66044555, 38.99086306, 38.4137627 ,\n",
              "       46.01486036, 46.89946891, 48.05053853, 48.99328191,  0.        ,\n",
              "       39.80462827, 39.57082624, 39.97203121, 38.98311218, 38.23839026,\n",
              "       45.17206883, 45.71928201,  0.        ,  0.        ,  0.        ,\n",
              "       38.67874097, 38.9007876 , 38.97429305, 38.22321364, 37.60861696,\n",
              "       44.2544202 , 44.41923611, 43.24794349, 42.14320164, 41.06636572,\n",
              "       39.87210819, 38.98118426, 38.26165416, 37.5628855 , 37.00917807,\n",
              "       43.31279303, 43.27023176, 42.35822791, 41.44136599, 40.52594996,\n",
              "       39.60285468, 38.72507339, 37.90850866, 37.15747895, 36.56172123,\n",
              "       42.39930422, 42.24720266, 41.49031354, 40.66856519, 39.85940506,\n",
              "       39.05766995, 38.2692291 , 37.50370831, 36.78315698, 36.20318199,\n",
              "       41.65277466, 41.44890488, 40.79276366, 40.0880089 , 39.37302654,\n",
              "       38.65203245, 37.93010585, 37.21580573, 36.53293184, 35.97742057])"
            ]
          },
          "metadata": {},
          "execution_count": 27
        }
      ]
    },
    {
      "cell_type": "code",
      "execution_count": 28,
      "metadata": {
        "colab": {
          "base_uri": "https://localhost:8080/",
          "height": 382
        },
        "id": "33f40ae4",
        "outputId": "d0991ba4-d463-477e-8b43-83c12156af81"
      },
      "outputs": [
        {
          "output_type": "execute_result",
          "data": {
            "text/plain": [
              "<function matplotlib.pyplot.show(*args, **kw)>"
            ]
          },
          "metadata": {},
          "execution_count": 28
        },
        {
          "output_type": "display_data",
          "data": {
            "text/plain": [
              "<Figure size 1440x1440 with 6 Axes>"
            ],
            "image/png": "[encoded data removed]"
          },
          "metadata": {
            "needs_background": "light"
          }
        }
      ],
      "source": [
        "fig, (ax1,ax2,ax3) = plt.subplots(1,3,figsize=(20,20))\n",
        "z1 = ax1.imshow(opt_value_VI_matrix)\n",
        "z2 = ax2.imshow(opt_value_PI_matrix)\n",
        "z3 = ax3.imshow(np.abs(opt_value_PI_matrix - opt_value_VI_matrix))\n",
        "ax1.title.set_text(\"value_VI\")\n",
        "ax2.title.set_text(\"value_PI\")\n",
        "ax3.title.set_text(\"|value_PI - value_VI|\")\n",
        "plt.colorbar(z1,ax=ax1,fraction=0.046, pad=0.04)\n",
        "plt.colorbar(z2,ax=ax2,fraction=0.046, pad=0.04)\n",
        "plt.colorbar(z3,ax=ax3,fraction=0.046, pad=0.04)\n",
        "plt.show"
      ],
      "id": "33f40ae4"
    },
    {
      "cell_type": "markdown",
      "metadata": {
        "id": "f4104f35"
      },
      "source": [
        "# Epilogue\n",
        "\n",
        "If time permits, you can play around with the code in a variety of ways, e.g.:\n",
        "1. Change the reward function, add and remove obstacles, or change the size of the MDP.\n",
        "2. Extract the optimal policy from the policy and value iteration algorithms. Does it match your intuition?\n",
        "3. Plot the distance (say, in supremum norm) from the optimal value function as a function of iterations. Do the results match the predictions of theory?"
      ],
      "id": "f4104f35"
    },
    {
      "cell_type": "code",
      "execution_count": 52,
      "metadata": {
        "id": "1e0337fb"
      },
      "outputs": [],
      "source": [],
      "id": "1e0337fb"
    }
  ],
  "metadata": {
    "colab": {
      "provenance": []
    },
    "kernelspec": {
      "display_name": "Python 3 (ipykernel)",
      "language": "python",
      "name": "python3"
    },
    "language_info": {
      "codemirror_mode": {
        "name": "ipython",
        "version": 3
      },
      "file_extension": ".py",
      "mimetype": "text/x-python",
      "name": "python",
      "nbconvert_exporter": "python",
      "pygments_lexer": "ipython3",
      "version": "3.9.7"
    }
  },
  "nbformat": 4,
  "nbformat_minor": 5
}